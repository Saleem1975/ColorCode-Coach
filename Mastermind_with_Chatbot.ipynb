{
 "cells": [
  {
   "cell_type": "code",
   "execution_count": 1,
   "id": "1b540a6c",
   "metadata": {},
   "outputs": [],
   "source": [
    "\n",
    "#pip uninstall -y keras keras-nightly\n"
   ]
  },
  {
   "cell_type": "code",
   "execution_count": 2,
   "id": "bd4f321b-9684-41cc-9258-2c167af9385c",
   "metadata": {},
   "outputs": [],
   "source": [
    "#pip install --upgrade \"tensorflow==2.15.*\"\n"
   ]
  },
  {
   "cell_type": "code",
   "execution_count": 3,
   "id": "47a84c03",
   "metadata": {},
   "outputs": [
    {
     "name": "stdout",
     "output_type": "stream",
     "text": [
      "WARNING:tensorflow:From C:\\Users\\linke\\anaconda3\\Lib\\site-packages\\keras\\src\\losses.py:2976: The name tf.losses.sparse_softmax_cross_entropy is deprecated. Please use tf.compat.v1.losses.sparse_softmax_cross_entropy instead.\n",
      "\n"
     ]
    }
   ],
   "source": [
    "\n",
    "# Import libraries\n",
    "import pandas as pd\n",
    "import numpy as np\n",
    "from sklearn.model_selection import train_test_split\n",
    "from sklearn.preprocessing import LabelEncoder\n",
    "from tensorflow.keras.preprocessing.text import Tokenizer\n",
    "from tensorflow.keras.preprocessing.sequence import pad_sequences\n",
    "from tensorflow.keras.models import Sequential\n",
    "from tensorflow.keras.layers import Embedding, GlobalAveragePooling1D, Dense\n",
    "import pickle\n",
    "from logic import *\n",
    "import speech_recognition as sr\n",
    "import pyttsx3\n",
    "import matplotlib.pyplot as plt\n",
    "import random\n",
    "\n"
   ]
  },
  {
   "cell_type": "code",
   "execution_count": 4,
   "id": "5b1e6136",
   "metadata": {},
   "outputs": [
    {
     "data": {
      "text/html": [
       "<div>\n",
       "<style scoped>\n",
       "    .dataframe tbody tr th:only-of-type {\n",
       "        vertical-align: middle;\n",
       "    }\n",
       "\n",
       "    .dataframe tbody tr th {\n",
       "        vertical-align: top;\n",
       "    }\n",
       "\n",
       "    .dataframe thead th {\n",
       "        text-align: right;\n",
       "    }\n",
       "</style>\n",
       "<table border=\"1\" class=\"dataframe\">\n",
       "  <thead>\n",
       "    <tr style=\"text-align: right;\">\n",
       "      <th></th>\n",
       "      <th>query</th>\n",
       "      <th>intent</th>\n",
       "    </tr>\n",
       "  </thead>\n",
       "  <tbody>\n",
       "    <tr>\n",
       "      <th>0</th>\n",
       "      <td>I want to play again please</td>\n",
       "      <td>restart_game</td>\n",
       "    </tr>\n",
       "    <tr>\n",
       "      <th>1</th>\n",
       "      <td>Begin a new round</td>\n",
       "      <td>restart_game</td>\n",
       "    </tr>\n",
       "    <tr>\n",
       "      <th>2</th>\n",
       "      <td>Give me tips to play better please</td>\n",
       "      <td>game_strategy</td>\n",
       "    </tr>\n",
       "    <tr>\n",
       "      <th>3</th>\n",
       "      <td>Bye please</td>\n",
       "      <td>quit_game</td>\n",
       "    </tr>\n",
       "    <tr>\n",
       "      <th>4</th>\n",
       "      <td>Goodbye please</td>\n",
       "      <td>quit_game</td>\n",
       "    </tr>\n",
       "  </tbody>\n",
       "</table>\n",
       "</div>"
      ],
      "text/plain": [
       "                                query         intent\n",
       "0         I want to play again please   restart_game\n",
       "1                   Begin a new round   restart_game\n",
       "2  Give me tips to play better please  game_strategy\n",
       "3                          Bye please      quit_game\n",
       "4                      Goodbye please      quit_game"
      ]
     },
     "execution_count": 4,
     "metadata": {},
     "output_type": "execute_result"
    }
   ],
   "source": [
    "\n",
    "# Load dataset (make sure the CSV is in the same folder as this notebook)\n",
    "df = pd.read_csv(r\"INSERT YOUR PATH\Data_mastermind_chatbot_dataset.csv\")\n",
    "df.head()\n"
   ]
  },
  {
   "cell_type": "code",
   "execution_count": 5,
   "id": "e5af90c9",
   "metadata": {},
   "outputs": [],
   "source": [
    "\n",
    "from sklearn.preprocessing import LabelEncoder\n",
    "from tensorflow.keras.preprocessing.text import Tokenizer\n",
    "from tensorflow.keras.preprocessing.sequence import pad_sequences\n",
    "# Encode the intent labels\n",
    "label_encoder = LabelEncoder() #creates a label encoder object from sklearn.preprocessing. You use it to convert categorical labels (one word or text) into numeric values\n",
    "y = label_encoder.fit_transform(df[\"intent\"]) #This line uses the LabelEncoder to convert the values in the intent column of your DataFrame into numbers, and stores the result in y. \n",
    "\n",
    "# Tokenize the text queries\n",
    "tokenizer = Tokenizer(num_words=2000, oov_token=\"<OOV>\") #This creates a Tokenizer object from Keras (in tensorflow.keras.preprocessing.text). It's used to convert text (words) into sequences of numbers, which machine learning models (especially neural networks) can understand. Only keep the top 2,000 most frequent words from your dataset. Other words are ignored. Any word not in the top 2,000 will be replaced with \"<OOV>\", which stands for \"Out-Of-Vocabulary\" \n",
    "\n",
    "tokenizer.fit_on_texts(df[\"query\"]) #Scan all the sentences (more than one word) in df[\"query\"] and learn which words exist and how often they appear. 'hello’: 2,     'how’: 3,     'are’: 4,\n",
    "X = tokenizer.texts_to_sequences(df[\"query\"]) #: Each word in the sentence is replaced by its corresponding integer index from the tokenizer’s vocabulary (word_index). {'<OOV>': 1, 'hello': 2, 'how': 3, 'are': 4, 'you': 5, 'tell': 6, 'me': 7\n",
    "\n",
    "# Pad the sequences\n",
    "X_padded = pad_sequences(X, maxlen=20, padding='post', truncating='post') #This uses pad_sequences() from tensorflow.keras.preprocessing.sequence to make all the input sequences the same length.  20 tokens length, padding = post  Add zeros at the end of short sequences, truncating = post  Cut extra tokens from the end of long sequences\n"
   ]
  },
  {
   "cell_type": "code",
   "execution_count": 6,
   "id": "a48db648-239e-453b-b1d2-47a3e1bc6a32",
   "metadata": {},
   "outputs": [
    {
     "data": {
      "text/plain": [
       "array([[ 4, 50,  8, ...,  0,  0,  0],\n",
       "       [57,  9, 28, ...,  0,  0,  0],\n",
       "       [69, 26, 70, ...,  0,  0,  0],\n",
       "       ...,\n",
       "       [73,  9, 28, ...,  0,  0,  0],\n",
       "       [27,  9, 61, ...,  0,  0,  0],\n",
       "       [69, 26, 70, ...,  0,  0,  0]])"
      ]
     },
     "execution_count": 6,
     "metadata": {},
     "output_type": "execute_result"
    }
   ],
   "source": [
    "X_padded"
   ]
  },
  {
   "cell_type": "code",
   "execution_count": 7,
   "id": "69cd83ee-5654-4855-aff7-57751e8d4b65",
   "metadata": {},
   "outputs": [
    {
     "data": {
      "text/plain": [
       "array([4, 4, 2, ..., 4, 2, 2])"
      ]
     },
     "execution_count": 7,
     "metadata": {},
     "output_type": "execute_result"
    }
   ],
   "source": [
    "y\n",
    "#np.unique(y)"
   ]
  },
  {
   "cell_type": "code",
   "execution_count": 8,
   "id": "75ed0f35-8f85-4f0b-a399-a8b6161438b8",
   "metadata": {},
   "outputs": [
    {
     "data": {
      "text/plain": [
       "[array([[ 4, 50,  8, ...,  0,  0,  0],\n",
       "        [57,  9, 28, ...,  0,  0,  0],\n",
       "        [69, 26, 70, ...,  0,  0,  0],\n",
       "        ...,\n",
       "        [73,  9, 28, ...,  0,  0,  0],\n",
       "        [27,  9, 61, ...,  0,  0,  0],\n",
       "        [69, 26, 70, ...,  0,  0,  0]]),\n",
       " array([4, 4, 2, ..., 4, 2, 2])]"
      ]
     },
     "execution_count": 8,
     "metadata": {},
     "output_type": "execute_result"
    }
   ],
   "source": [
    "[X_padded,y]"
   ]
  },
  {
   "cell_type": "code",
   "execution_count": 9,
   "id": "d6708cba",
   "metadata": {},
   "outputs": [],
   "source": [
    "\n",
    "# Split into training and test sets\n",
    "X_train, X_test, y_train, y_test = train_test_split(X_padded, y, test_size=0.2, random_state=42)\n"
   ]
  },
  {
   "cell_type": "code",
   "execution_count": 10,
   "id": "6c28189d",
   "metadata": {},
   "outputs": [
    {
     "name": "stdout",
     "output_type": "stream",
     "text": [
      "WARNING:tensorflow:From C:\\Users\\linke\\anaconda3\\Lib\\site-packages\\keras\\src\\backend.py:873: The name tf.get_default_graph is deprecated. Please use tf.compat.v1.get_default_graph instead.\n",
      "\n",
      "WARNING:tensorflow:From C:\\Users\\linke\\anaconda3\\Lib\\site-packages\\keras\\src\\optimizers\\__init__.py:309: The name tf.train.Optimizer is deprecated. Please use tf.compat.v1.train.Optimizer instead.\n",
      "\n",
      "Epoch 1/10\n",
      "WARNING:tensorflow:From C:\\Users\\linke\\anaconda3\\Lib\\site-packages\\keras\\src\\utils\\tf_utils.py:492: The name tf.ragged.RaggedTensorValue is deprecated. Please use tf.compat.v1.ragged.RaggedTensorValue instead.\n",
      "\n",
      "WARNING:tensorflow:From C:\\Users\\linke\\anaconda3\\Lib\\site-packages\\keras\\src\\engine\\base_layer_utils.py:384: The name tf.executing_eagerly_outside_functions is deprecated. Please use tf.compat.v1.executing_eagerly_outside_functions instead.\n",
      "\n",
      "50/50 [==============================] - 1s 5ms/step - loss: 1.7825 - accuracy: 0.3680 - val_loss: 1.7702 - val_accuracy: 0.3950\n",
      "Epoch 2/10\n",
      "50/50 [==============================] - 0s 2ms/step - loss: 1.7501 - accuracy: 0.4875 - val_loss: 1.7251 - val_accuracy: 0.5675\n",
      "Epoch 3/10\n",
      "50/50 [==============================] - 0s 2ms/step - loss: 1.6884 - accuracy: 0.6114 - val_loss: 1.6460 - val_accuracy: 0.6775\n",
      "Epoch 4/10\n",
      "50/50 [==============================] - 0s 2ms/step - loss: 1.5850 - accuracy: 0.6740 - val_loss: 1.5133 - val_accuracy: 0.7075\n",
      "Epoch 5/10\n",
      "50/50 [==============================] - 0s 2ms/step - loss: 1.4286 - accuracy: 0.6859 - val_loss: 1.3269 - val_accuracy: 0.7475\n",
      "Epoch 6/10\n",
      "50/50 [==============================] - 0s 2ms/step - loss: 1.2263 - accuracy: 0.7315 - val_loss: 1.0952 - val_accuracy: 0.8050\n",
      "Epoch 7/10\n",
      "50/50 [==============================] - 0s 2ms/step - loss: 0.9985 - accuracy: 0.8023 - val_loss: 0.8768 - val_accuracy: 0.8425\n",
      "Epoch 8/10\n",
      "50/50 [==============================] - 0s 2ms/step - loss: 0.7947 - accuracy: 0.9193 - val_loss: 0.6951 - val_accuracy: 0.9725\n",
      "Epoch 9/10\n",
      "50/50 [==============================] - 0s 2ms/step - loss: 0.6273 - accuracy: 0.9718 - val_loss: 0.5519 - val_accuracy: 0.9725\n",
      "Epoch 10/10\n",
      "50/50 [==============================] - 0s 2ms/step - loss: 0.4889 - accuracy: 0.9718 - val_loss: 0.4292 - val_accuracy: 0.9725\n"
     ]
    },
    {
     "data": {
      "text/plain": [
       "<keras.src.callbacks.History at 0x27ddd4466d0>"
      ]
     },
     "execution_count": 10,
     "metadata": {},
     "output_type": "execute_result"
    }
   ],
   "source": [
    "\n",
    "# Build and compile the ANN model\n",
    "model = Sequential([\n",
    "    Embedding(input_dim=2000, output_dim=16, input_length=20),\n",
    "    GlobalAveragePooling1D(),\n",
    "    Dense(16, activation='relu'),\n",
    "    Dense(len(label_encoder.classes_), activation='softmax')\n",
    "])\n",
    "\n",
    "model.compile(loss='sparse_categorical_crossentropy', optimizer='adam', metrics=['accuracy'])\n",
    "\n",
    "# Train the model\n",
    "model.fit(X_train, y_train, epochs=10, validation_data=(X_test, y_test))\n"
   ]
  },
  {
   "cell_type": "code",
   "execution_count": 11,
   "id": "2028d55e",
   "metadata": {},
   "outputs": [
    {
     "name": "stdout",
     "output_type": "stream",
     "text": [
      "13/13 [==============================] - 0s 812us/step - loss: 0.4292 - accuracy: 0.9725\n",
      "Test Accuracy: 0.97\n"
     ]
    }
   ],
   "source": [
    "\n",
    "# Evaluate the model\n",
    "loss, accuracy = model.evaluate(X_test, y_test)\n",
    "print(f\"Test Accuracy: {accuracy:.2f}\")\n"
   ]
  },
  {
   "cell_type": "code",
   "execution_count": 12,
   "id": "629c4fcd-0442-44c1-979f-1d1854853760",
   "metadata": {},
   "outputs": [],
   "source": [
    "# === STEP 6: Save Everything ===\n",
    "#model.save(r\"INSERT YOUR PATH\chatbot_model.h5\")\n",
    "\n",
    "#with open(r\"INSERT YOUR PATH\tokenizer.pkl\", \"wb\") as f:\n",
    "    #pickle.dump(tokenizer, f)\n",
    "\n",
    "#with open(r\"INSERT YOUR PATH\label_encoder.pkl\", \"wb\") as f:\n",
    "    #pickle.dump(label_encoder, f)"
   ]
  },
  {
   "cell_type": "code",
   "execution_count": null,
   "id": "efd3c66d-f0f8-4553-9b93-f9b7f8cd2c92",
   "metadata": {},
   "outputs": [],
   "source": []
  },
  {
   "cell_type": "code",
   "execution_count": null,
   "id": "e3c9880a",
   "metadata": {},
   "outputs": [],
   "source": []
  },
  {
   "cell_type": "code",
   "execution_count": 13,
   "id": "0b6b56fc-2452-4831-9ee5-20e938ae075d",
   "metadata": {},
   "outputs": [],
   "source": [
    "def plot_color_sequence(solution):\n",
    "    \"\"\"\n",
    "    Plot 4 colored circles representing the correct color sequence.\n",
    "    \"\"\"\n",
    "    fig, ax = plt.subplots()\n",
    "    ax.set_xlim(0, 5)\n",
    "    ax.set_ylim(0, 2)\n",
    "    ax.set_aspect('equal')\n",
    "    ax.axis('off')  # Hide axis\n",
    "\n",
    "    for i, color in enumerate(solution):\n",
    "        circle = plt.Circle((i + 1, 1), 0.4, color=color.lower())\n",
    "        ax.add_patch(circle)\n",
    "        ax.text(i + 1, 0.4, color.capitalize(), ha='center', fontsize=10)\n",
    "\n",
    "    plt.title(\"\\n🎯 Correct Color Sequence\")\n",
    "    plt.show()"
   ]
  },
  {
   "cell_type": "code",
   "execution_count": 14,
   "id": "39820250",
   "metadata": {},
   "outputs": [],
   "source": [
    "def speak(text):\n",
    "    engine = pyttsx3.init()\n",
    "    engine.say(text)\n",
    "    engine.runAndWait()"
   ]
  },
  {
   "cell_type": "code",
   "execution_count": 15,
   "id": "2f45aa5b-3f1d-478f-a75c-56a5d51301e8",
   "metadata": {},
   "outputs": [],
   "source": [
    "def get_chatbot_response(query=None, tokenizer=None, model=None, label_encoder=None, max_len=20, use_voice=False):\n",
    "    \"\"\"\n",
    "    Get chatbot response using text or voice input, and return output via text or voice.\n",
    "\n",
    "    Parameters:\n",
    "        query (str): User input text. Ignored if use_voice=True.\n",
    "        tokenizer: Trained tokenizer object.\n",
    "        model: Trained classification model.\n",
    "        label_encoder: Trained label encoder.\n",
    "        max_len (int): Maximum sequence length for padding.\n",
    "        use_voice (bool): Whether to use voice input/output.\n",
    "\n",
    "    Returns:\n",
    "        str: Chatbot response\n",
    "    \"\"\"\n",
    "####################################\n",
    "    responses = {\n",
    "        'color_repeat': \"Yes, you can use the same color more than once in your guess.\",\n",
    "        'feedback_meaning': \"Black pegs mean right color in the right position. White pegs mean right color in the wrong position.\",\n",
    "        'game_strategy': \"Start with a guess of different colors. Use the feedback to eliminate possibilities.\",\n",
    "        'restart_game': \"Game restarted. Try to crack the new code!\",\n",
    "        'winning_condition': \"You win by guessing the exact color sequence in the correct order.\",\n",
    "        'quit_game': \"Thanks for playing Mastermind. Goodbye!\"\n",
    "    }\n",
    "##################################\n",
    "    # Voice input (if enabled)\n",
    "    if use_voice:\n",
    "\n",
    "        recognizer = sr.Recognizer()\n",
    "        # Retry up to 3 times if voice fails\n",
    "        for attempt in range(3):\n",
    "                with sr.Microphone() as source:\n",
    "                    speak(\"What would you like to ask? I am listening\")\n",
    "                    print(\"🔊 Listening...\")\n",
    "                    audio = recognizer.listen(source)\n",
    "                    try:\n",
    "                        query = recognizer.recognize_google(audio)\n",
    "                        print(f\"🗣️ You said: {query}\")\n",
    "                        speak(f\"You said: {query}\")\n",
    "                        break\n",
    "                    except sr.UnknownValueError:\n",
    "                        speak(\"Sorry, I didn't catch that. ask your question again.\")\n",
    "                    except sr.RequestError:\n",
    "                        error_message = \"Speech service is unavailable.\"\n",
    "                        speak(error_message)\n",
    "                        return\n",
    "\n",
    "    # Tokenize and pad the input\n",
    "    seq = tokenizer.texts_to_sequences([query])\n",
    "    padded = pad_sequences(seq, maxlen=max_len, padding='post', truncating='post')\n",
    "\n",
    "    # Predict intent\n",
    "    prediction = model.predict(padded)\n",
    "    intent_index = np.argmax(prediction)\n",
    "    predicted_intent = label_encoder.inverse_transform([intent_index])[0]\n",
    "\n",
    "    # Get response\n",
    "    response = responses.get(predicted_intent, \"I'm not sure how to respond to that.\")\n",
    "\n",
    "    # Voice output (if enabled)\n",
    "    #if use_voice:\n",
    "        #speak(response)\n",
    "    return response\n"
   ]
  },
  {
   "cell_type": "code",
   "execution_count": null,
   "id": "6747cdc5-a4ce-4378-afec-b05dfa39eebb",
   "metadata": {},
   "outputs": [],
   "source": []
  },
  {
   "cell_type": "code",
   "execution_count": 16,
   "id": "e9f6c4be-dce2-4e74-83c4-0ad075758596",
   "metadata": {},
   "outputs": [],
   "source": [
    "def run_chatbot(tokenizer, model, label_encoder):\n",
    "    \"\"\"\n",
    "    Interact with the chatbot using voice or text.\n",
    "    After each answer, ask if the user wants to continue chatting or play the Mastermind game.\n",
    "    Includes voice input/output with retry for errors.\n",
    "    \"\"\"\n",
    "\n",
    "    # Voice welcome and choice\n",
    "    speak(\"Welcome to the Mastermind Chatbot.\")\n",
    "    speak(\"Would you like to use voice interaction? Type yes or no in the prompt below\")\n",
    "    mode = input(\"Would you like to use voice interaction? (yes/no): \").strip().lower()\n",
    "    if mode==\"yes\":\n",
    "        speak(\"Ok, Voice mode activated! I'm all ears\")\n",
    "    max_attempts = 3\n",
    "\n",
    "    while True:\n",
    "        if mode == \"yes\":\n",
    "            \n",
    "            #speak(\"What would you like to ask?\")\n",
    "            #response = get_chatbot_response(tokenizer=tokenizer, model=model, label_encoder=label_encoder, use_voice=True)\n",
    "\n",
    "            # Ask user what's next\n",
    "            speak(\"What's next? You can ask questions, jump into the Mastermind game, or exit the chat. Just say: question, game, or exit!\")\n",
    "\n",
    "            recognizer = sr.Recognizer()\n",
    "\n",
    "            # Retry up to 3 times if voice fails\n",
    "            for attempt in range(max_attempts):\n",
    "                remaining = max_attempts - attempt\n",
    "                print(attempt)\n",
    "                with sr.Microphone() as source:\n",
    "                    print(\"🔊 I am listening, please speak clearly...\")\n",
    "                    audio = recognizer.listen(source, timeout=10, phrase_time_limit=15)\n",
    "                    try:\n",
    "                    \n",
    "                        query = recognizer.recognize_google(audio)\n",
    "                        if query.lower() in [\"question\", \"game\", \"exit\"]:\n",
    "                            print(f\"🗣️ You said: {query}\")\n",
    "                            speak(f\"You said: {query}\")\n",
    "                            break\n",
    "                        else:\n",
    "                            if remaining >= 1:\n",
    "                                speak(f\"Sorry, Wrong response. You have {remaining - 1} more attempt{'s' if remaining - 1 > 1 else ''}.\")\n",
    "                                speak(\"Just say: question, game, or exit clearly!\")\n",
    "                            else:\n",
    "                                speak(\"Sorry, Invalid response. Let's try again later.\")\n",
    "                    except sr.UnknownValueError:\n",
    "                        if remaining >= 1:\n",
    "                                speak(f\"Sorry, I didn't catch that. You have {remaining - 1} more attempt{'s' if remaining - 1 > 1 else ''}.\")\n",
    "                                speak(\"Just say: question, game, or exit clearly!\")\n",
    "                        else:\n",
    "                                speak(\"Sorry, I still couldn't hear you. Let's try again later.\")\n",
    "                    except sr.RequestError:\n",
    "                        error_message = \"Speech service is unavailable.\"\n",
    "                        speak(error_message)\n",
    "                        return\n",
    "                   \n",
    "\n",
    "            \n",
    "            if query.lower() == \"question\":\n",
    "                response = get_chatbot_response(tokenizer=tokenizer, model=model, label_encoder=label_encoder, use_voice=True)\n",
    "                speak(response)\n",
    "            elif query.lower() == \"game\":\n",
    "                speak(\"🎮 Launching the Mastermind game...\")\n",
    "                play_mastermind()\n",
    "                break\n",
    "            elif query.lower() == \"exit\":\n",
    "                speak(\"👋 Goodbye!\")\n",
    "                break\n",
    "            else:\n",
    "                break\n",
    "        else:\n",
    "            query = input(\"💬 What's next? You can ask questions, jump into the Mastermind game, or exit the chat. Just say: question, game, or exit!\")\n",
    "            if query.lower() == \"question\":\n",
    "                response = get_chatbot_response(tokenizer=tokenizer, model=model, label_encoder=label_encoder, use_voice=True)\n",
    "                print(\"🤖 Chatbot:\", response)\n",
    "            elif query.lower() == \"game\":\n",
    "                print(\"🎮 Launching the Mastermind game...\")\n",
    "                play_mastermind()\n",
    "                break\n",
    "            elif query.lower() == \"exit\":\n",
    "                print(\"👋 Goodbye!\")\n",
    "                break\n",
    "            else:\n",
    "                print(\"This is not a valied response. Let's try again later.\")\n",
    "                break\n",
    " "
   ]
  },
  {
   "cell_type": "code",
   "execution_count": null,
   "id": "2327346c-a45d-4be1-9684-726af5a39807",
   "metadata": {},
   "outputs": [],
   "source": []
  },
  {
   "cell_type": "code",
   "execution_count": 17,
   "id": "9d0b0f45-f485-4a4a-8ece-660ac9e2e352",
   "metadata": {},
   "outputs": [],
   "source": [
    "import random\n",
    "\n",
    "def play_mastermind():\n",
    "    \"\"\"\n",
    "    Mastermind with auto-feedback:\n",
    "      - Randomly selects 4 distinct colors for the secret (order hidden).\n",
    "      - Displays the set of allowed colors in random order (not the secret sequence).\n",
    "      - Prompts player for guesses like 'red0', 'blue1', etc.\n",
    "      - Function automatically computes number of correct positions.\n",
    "    \"\"\"\n",
    "    # ---------- 1) Choose allowed colors and secret ----------\n",
    "    palette = [\"red\", \"blue\", \"green\", \"yellow\", \"orange\", \"purple\", \"pink\", \"brown\", \"cyan\", \"magenta\"]\n",
    "    allowed_colors = random.sample(palette, 4)          # choose 4 distinct colors\n",
    "    secret_order = random.sample(allowed_colors, 4)     # shuffle them into a hidden solution\n",
    "    secret_solution = {i: secret_order[i] for i in range(4)}\n",
    "\n",
    "    # Display allowed colors in a randomized order (not the true sequence)\n",
    "    print(\"Valid colors for this round (secret order is hidden):\", \", \".join(random.sample(allowed_colors, len(allowed_colors))))\n",
    "    \n",
    "\n",
    "    # ---------- 2) Build symbols and base constraints ----------\n",
    "    symbols = [Symbol(f\"{color}{i}\") for i in range(4) for color in allowed_colors]\n",
    "    knowledge = And()\n",
    "\n",
    "    # Each color appears in at least one position\n",
    "    for color in allowed_colors:\n",
    "        knowledge.add(Or(*(Symbol(f\"{color}{i}\") for i in range(4))))\n",
    "\n",
    "    # A color cannot occupy two different positions\n",
    "    for color in allowed_colors:\n",
    "        for i in range(4):\n",
    "            for j in range(4):\n",
    "                if i != j:\n",
    "                    knowledge.add(Implication(\n",
    "                        Symbol(f\"{color}{i}\"), Not(Symbol(f\"{color}{j}\"))\n",
    "                    ))\n",
    "\n",
    "    # Each position has at least one color\n",
    "    for i in range(4):\n",
    "        knowledge.add(Or(*(Symbol(f\"{c}{i}\") for c in allowed_colors)))\n",
    "\n",
    "    # Mutual exclusion per position\n",
    "    for i in range(4):\n",
    "        for c1 in allowed_colors:\n",
    "            for c2 in allowed_colors:\n",
    "                if c1 != c2:\n",
    "                    knowledge.add(Implication(\n",
    "                        Symbol(f\"{c1}{i}\"), Not(Symbol(f\"{c2}{i}\"))\n",
    "                    ))\n",
    "\n",
    "    # ---------- 3) Gameplay loop ----------\n",
    "    def parse_guess(token: str):\n",
    "        if not token:\n",
    "            return None, None\n",
    "        color, pos_char = token[:-1], token[-1]\n",
    "        if not pos_char.isdigit():\n",
    "            return None, None\n",
    "        pos = int(pos_char)\n",
    "        if color not in allowed_colors or pos not in (0, 1, 2, 3):\n",
    "            return None, None\n",
    "        return color, pos\n",
    "\n",
    "    number_trials = int(input('Number of trials: ').strip())\n",
    "\n",
    "    for trial in range(number_trials):\n",
    "        print(f\"\\n--- Trial {trial + 1} of {number_trials} ---\")\n",
    "        x0 = input('Input first color as ###0: ').strip()\n",
    "        x1 = input('Input second color as ###1: ').strip()\n",
    "        x2 = input('Input third color as ###2: ').strip()\n",
    "        x3 = input('Input fourth color as ###3: ').strip()\n",
    "        guess_tokens = [x0, x1, x2, x3]\n",
    "\n",
    "        parsed = [parse_guess(t) for t in guess_tokens]\n",
    "        if any(c is None for c, _ in parsed):\n",
    "            print(\"\\nInvalid guess. Please try again with the displayed colors and positions 0..3.\\n\")\n",
    "            continue\n",
    "\n",
    "        # ---------- Auto-check ----------\n",
    "        number_correct = sum(1 for (c, p) in parsed if secret_solution.get(p) == c)\n",
    "        print(f\"System feedback: {number_correct} correct position(s).\")\n",
    "\n",
    "        # ---------- Update KB ----------\n",
    "        if number_correct == 0:\n",
    "            knowledge.add(And(*(Not(Symbol(tok)) for tok in guess_tokens)))\n",
    "        elif number_correct == 1:\n",
    "            knowledge.add(Or(*(Symbol(tok) for tok in guess_tokens)))\n",
    "        elif number_correct == 2:\n",
    "            knowledge.add(Or(\n",
    "                And(Symbol(guess_tokens[0]), Symbol(guess_tokens[1]), Not(Symbol(guess_tokens[2])), Not(Symbol(guess_tokens[3]))),\n",
    "                And(Symbol(guess_tokens[0]), Symbol(guess_tokens[2]), Not(Symbol(guess_tokens[1])), Not(Symbol(guess_tokens[3]))),\n",
    "                And(Symbol(guess_tokens[0]), Symbol(guess_tokens[3]), Not(Symbol(guess_tokens[1])), Not(Symbol(guess_tokens[2]))),\n",
    "                And(Symbol(guess_tokens[1]), Symbol(guess_tokens[2]), Not(Symbol(guess_tokens[0])), Not(Symbol(guess_tokens[3]))),\n",
    "                And(Symbol(guess_tokens[1]), Symbol(guess_tokens[3]), Not(Symbol(guess_tokens[0])), Not(Symbol(guess_tokens[2]))),\n",
    "                And(Symbol(guess_tokens[2]), Symbol(guess_tokens[3]), Not(Symbol(guess_tokens[0])), Not(Symbol(guess_tokens[1])))\n",
    "            ))\n",
    "        elif number_correct >= 3:\n",
    "            knowledge.add(And(*(Symbol(tok) for tok in guess_tokens)))\n",
    "\n",
    "        # ---------- Try to infer solution ----------\n",
    "        inferred_colors, entailed_count = [], 0\n",
    "        for sym in symbols:\n",
    "            if model_check(knowledge, sym):\n",
    "                print(\"Entailed:\", sym)\n",
    "                entailed_count += 1\n",
    "                inferred_colors.append(sym.name[:-1])\n",
    "\n",
    "        if entailed_count == 4:\n",
    "            print('...Solved...')\n",
    "            try:\n",
    "                speak(\"The system nailed it!\")\n",
    "            except Exception:\n",
    "                pass\n",
    "            try:\n",
    "                plot_color_sequence(inferred_colors)\n",
    "            except Exception:\n",
    "                pass\n",
    "            break\n",
    "\n",
    "    print(\"\\nSecret solution (position -> color):\", secret_solution)\n"
   ]
  },
  {
   "cell_type": "code",
   "execution_count": null,
   "id": "4e127494-b2b4-4e86-99ff-dc98ae9f21c1",
   "metadata": {},
   "outputs": [],
   "source": []
  },
  {
   "cell_type": "code",
   "execution_count": 18,
   "id": "c89c19ab-703a-4308-b041-4d20866511d3",
   "metadata": {},
   "outputs": [
    {
     "name": "stdin",
     "output_type": "stream",
     "text": [
      "Would you like to use voice interaction? (yes/no):  yes\n"
     ]
    },
    {
     "name": "stdout",
     "output_type": "stream",
     "text": [
      "0\n",
      "🔊 I am listening, please speak clearly...\n",
      "🗣️ You said: question\n",
      "🔊 Listening...\n",
      "🗣️ You said: give me tips to play better\n",
      "1/1 [==============================] - 0s 61ms/step\n",
      "0\n",
      "🔊 I am listening, please speak clearly...\n",
      "🗣️ You said: question\n",
      "🔊 Listening...\n",
      "🗣️ You said: what is the goal\n",
      "1/1 [==============================] - 0s 18ms/step\n",
      "0\n",
      "🔊 I am listening, please speak clearly...\n",
      "🗣️ You said: question\n",
      "🔊 Listening...\n",
      "🗣️ You said: can I use the Sim Card twice\n",
      "1/1 [==============================] - 0s 20ms/step\n",
      "0\n",
      "🔊 I am listening, please speak clearly...\n",
      "🗣️ You said: game\n",
      "Valid colors for this round (secret order is hidden): pink, purple, green, red\n"
     ]
    },
    {
     "name": "stdin",
     "output_type": "stream",
     "text": [
      "Number of trials:  10\n"
     ]
    },
    {
     "name": "stdout",
     "output_type": "stream",
     "text": [
      "\n",
      "--- Trial 1 of 10 ---\n"
     ]
    },
    {
     "name": "stdin",
     "output_type": "stream",
     "text": [
      "Input first color as ###0:  pink0\n",
      "Input second color as ###1:  purple1\n",
      "Input third color as ###2:  green2\n",
      "Input fourth color as ###3:  red3\n"
     ]
    },
    {
     "name": "stdout",
     "output_type": "stream",
     "text": [
      "System feedback: 2 correct position(s).\n",
      "\n",
      "--- Trial 2 of 10 ---\n"
     ]
    },
    {
     "name": "stdin",
     "output_type": "stream",
     "text": [
      "Input first color as ###0:  purple0\n",
      "Input second color as ###1:  pink1\n",
      "Input third color as ###2:  green2\n",
      "Input fourth color as ###3:  red3\n"
     ]
    },
    {
     "name": "stdout",
     "output_type": "stream",
     "text": [
      "System feedback: 1 correct position(s).\n",
      "\n",
      "--- Trial 3 of 10 ---\n"
     ]
    },
    {
     "name": "stdin",
     "output_type": "stream",
     "text": [
      "Input first color as ###0:  red0\n",
      "Input second color as ###1:  purple1\n",
      "Input third color as ###2:  green2\n",
      "Input fourth color as ###3:  pink3\n"
     ]
    },
    {
     "name": "stdout",
     "output_type": "stream",
     "text": [
      "System feedback: 1 correct position(s).\n",
      "\n",
      "--- Trial 4 of 10 ---\n"
     ]
    },
    {
     "name": "stdin",
     "output_type": "stream",
     "text": [
      "Input first color as ###0:  green0\n",
      "Input second color as ###1:  purple1\n",
      "Input third color as ###2:  red2\n",
      "Input fourth color as ###3:  pink3\n"
     ]
    },
    {
     "name": "stdout",
     "output_type": "stream",
     "text": [
      "System feedback: 0 correct position(s).\n",
      "Entailed: green2\n",
      "\n",
      "--- Trial 5 of 10 ---\n"
     ]
    },
    {
     "name": "stdin",
     "output_type": "stream",
     "text": [
      "Input first color as ###0:  purple0\n",
      "Input second color as ###1:  red1\n",
      "Input third color as ###2:  green2\n",
      "Input fourth color as ###3:  pink3\n"
     ]
    },
    {
     "name": "stdout",
     "output_type": "stream",
     "text": [
      "System feedback: 2 correct position(s).\n",
      "Entailed: green2\n",
      "\n",
      "--- Trial 6 of 10 ---\n"
     ]
    },
    {
     "name": "stdin",
     "output_type": "stream",
     "text": [
      "Input first color as ###0:  red0\n",
      "Input second color as ###1:  purple1\n",
      "Input third color as ###2:  green2\n",
      "Input fourth color as ###3:  pink3\n"
     ]
    },
    {
     "name": "stdout",
     "output_type": "stream",
     "text": [
      "System feedback: 1 correct position(s).\n",
      "Entailed: green2\n",
      "\n",
      "--- Trial 7 of 10 ---\n"
     ]
    },
    {
     "name": "stdin",
     "output_type": "stream",
     "text": [
      "Input first color as ###0:  purple0\n",
      "Input second color as ###1:  pink1\n",
      "Input third color as ###2:  green2\n",
      "Input fourth color as ###3:  red3\n"
     ]
    },
    {
     "name": "stdout",
     "output_type": "stream",
     "text": [
      "System feedback: 1 correct position(s).\n",
      "Entailed: green2\n",
      "\n",
      "--- Trial 8 of 10 ---\n"
     ]
    },
    {
     "name": "stdin",
     "output_type": "stream",
     "text": [
      "Input first color as ###0:  pink0\n",
      "Input second color as ###1:  purple1\n",
      "Input third color as ###2:  green2\n",
      "Input fourth color as ###3:  red3\n"
     ]
    },
    {
     "name": "stdout",
     "output_type": "stream",
     "text": [
      "System feedback: 2 correct position(s).\n",
      "Entailed: green2\n",
      "\n",
      "--- Trial 9 of 10 ---\n"
     ]
    },
    {
     "name": "stdin",
     "output_type": "stream",
     "text": [
      "Input first color as ###0:  purple0\n",
      "Input second color as ###1:  red1\n",
      "Input third color as ###2:  green2\n",
      "Input fourth color as ###3:  pink3\n"
     ]
    },
    {
     "name": "stdout",
     "output_type": "stream",
     "text": [
      "System feedback: 2 correct position(s).\n",
      "Entailed: green2\n",
      "\n",
      "--- Trial 10 of 10 ---\n"
     ]
    },
    {
     "name": "stdin",
     "output_type": "stream",
     "text": [
      "Input first color as ###0:  pink0\n",
      "Input second color as ###1:  red1\n",
      "Input third color as ###2:  green2\n",
      "Input fourth color as ###3:  purple3\n"
     ]
    },
    {
     "name": "stdout",
     "output_type": "stream",
     "text": [
      "System feedback: 4 correct position(s).\n",
      "Entailed: pink0\n",
      "Entailed: red1\n",
      "Entailed: green2\n",
      "Entailed: purple3\n",
      "...Solved...\n"
     ]
    },
    {
     "name": "stderr",
     "output_type": "stream",
     "text": [
      "C:\\Users\\linke\\anaconda3\\Lib\\site-packages\\IPython\\core\\pylabtools.py:152: UserWarning: Glyph 127919 (\\N{DIRECT HIT}) missing from current font.\n",
      "  fig.canvas.print_figure(bytes_io, **kw)\n"
     ]
    },
    {
     "data": {
      "image/png": "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",
      "text/plain": [
       "<Figure size 640x480 with 1 Axes>"
      ]
     },
     "metadata": {},
     "output_type": "display_data"
    },
    {
     "name": "stdout",
     "output_type": "stream",
     "text": [
      "\n",
      "Secret solution (position -> color): {0: 'pink', 1: 'red', 2: 'green', 3: 'purple'}\n"
     ]
    }
   ],
   "source": [
    "#driver Code\n",
    "run_chatbot(tokenizer, model, label_encoder)\n"
   ]
  },
  {
   "cell_type": "code",
   "execution_count": 19,
   "id": "18872392-fe1c-48d4-a3d4-dd60dd850163",
   "metadata": {},
   "outputs": [],
   "source": [
    "##Can I use the same color twice?\n",
    "##Give me tips to play better please\n",
    "## What is the goal\n",
    "\n",
    "##    colors = [\"red\", \"blue\", \"green\", \"yellow\"]\n"
   ]
  },
  {
   "cell_type": "code",
   "execution_count": null,
   "id": "f6ad64a6-688a-4ed3-9f4f-d7ea7a8dcfea",
   "metadata": {},
   "outputs": [],
   "source": []
  }
 ],
 "metadata": {
  "kernelspec": {
   "display_name": "Python 3 (ipykernel)",
   "language": "python",
   "name": "python3"
  },
  "language_info": {
   "codemirror_mode": {
    "name": "ipython",
    "version": 3
   },
   "file_extension": ".py",
   "mimetype": "text/x-python",
   "name": "python",
   "nbconvert_exporter": "python",
   "pygments_lexer": "ipython3",
   "version": "3.11.7"
  }
 },
 "nbformat": 4,
 "nbformat_minor": 5
}
